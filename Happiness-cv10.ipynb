{
 "cells": [
  {
   "cell_type": "code",
   "execution_count": 2,
   "metadata": {},
   "outputs": [
    {
     "data": {
      "text/html": [
       "<script>requirejs.config({paths: { 'plotly': ['https://cdn.plot.ly/plotly-latest.min']},});if(!window.Plotly) {{require(['plotly'],function(plotly) {window.Plotly=plotly;});}}</script>"
      ],
      "text/vnd.plotly.v1+html": [
       "<script>requirejs.config({paths: { 'plotly': ['https://cdn.plot.ly/plotly-latest.min']},});if(!window.Plotly) {{require(['plotly'],function(plotly) {window.Plotly=plotly;});}}</script>"
      ]
     },
     "metadata": {},
     "output_type": "display_data"
    }
   ],
   "source": [
    "# Put these at the top of every notebook, to get automatic reloading and inline plotting\n",
    "%reload_ext autoreload\n",
    "%autoreload 2\n",
    "%matplotlib inline\n",
    "\n",
    "from fastai.learner import *\n",
    "\n",
    "import torchtext\n",
    "from torchtext import vocab, data\n",
    "from torchtext.datasets import language_modeling\n",
    "\n",
    "from fastai.rnn_reg import *\n",
    "from fastai.rnn_train import *\n",
    "from fastai.nlp import *\n",
    "from fastai.lm_rnn import *\n",
    "\n",
    "from sklearn.model_selection import StratifiedKFold\n",
    "\n",
    "import dill as pickle\n",
    "import pandas as pd\n",
    "\n",
    "import plotly.graph_objs as go\n",
    "import plotly.offline as py\n",
    "py.init_notebook_mode(connected=True)\n",
    "\n",
    "from tqdm import tnrange, tqdm_notebook\n"
   ]
  },
  {
   "cell_type": "markdown",
   "metadata": {
    "collapsed": true
   },
   "source": [
    "### Constants"
   ]
  },
  {
   "cell_type": "code",
   "execution_count": 3,
   "metadata": {},
   "outputs": [],
   "source": [
    "PATH='data/happiness/'\n",
    "TRN_FILE = f'{PATH}/train.csv'\n",
    "TST_FILE = f'{PATH}/test.csv'\n",
    "\n",
    "\n",
    "SUBS = f'{PATH}/submissions/'\n",
    "\n",
    "bs=20; bptt=75\n",
    "em_sz = 300  # size of each embedding vector\n",
    "nh = 500     # number of hidden activations per layer\n",
    "nl = 3       # number of layers\n",
    "\n",
    "opt_fn = partial(optim.Adam, betas=(0.7, 0.99))\n",
    "n_splits = 10\n",
    "\n",
    "\n",
    "# Test settings\n",
    "#TRN_FILE = f'{PATH}/train-small.csv'\n",
    "#TST_FILE = f'{PATH}/test-small.csv'\n",
    "#n_splits=2"
   ]
  },
  {
   "cell_type": "markdown",
   "metadata": {},
   "source": [
    "### Read in data, split training and validation"
   ]
  },
  {
   "cell_type": "code",
   "execution_count": 4,
   "metadata": {},
   "outputs": [],
   "source": [
    "full_train_df = pd.read_csv(TRN_FILE, index_col=0)\n",
    "full_train_df.Is_Response.replace(['not happy', 'happy'], [0, 1], inplace=True)\n",
    "\n",
    "test_df = pd.read_csv(TST_FILE)\n",
    "\n",
    "strat = StratifiedKFold(n_splits=n_splits, shuffle=True, random_state=21)\n",
    "cv_splits_tmp = strat.split(full_train_df.index,\n",
    "                            full_train_df['Is_Response'])\n",
    "cv_splits = []\n",
    "for split in cv_splits_tmp:\n",
    "    cv_splits.append(split)"
   ]
  },
  {
   "cell_type": "markdown",
   "metadata": {
    "heading_collapsed": true
   },
   "source": [
    "### Inspecting data"
   ]
  },
  {
   "cell_type": "code",
   "execution_count": 14,
   "metadata": {
    "hidden": true
   },
   "outputs": [],
   "source": [
    "train_df['device_happy'] = train_df['Device_Used']+'_'+train_df['Is_Response']\n",
    "train_df['browser_happy'] = train_df['Browser_Used']+'_'+train_df['Is_Response']"
   ]
  },
  {
   "cell_type": "code",
   "execution_count": 15,
   "metadata": {
    "hidden": true
   },
   "outputs": [],
   "source": [
    "def plot(var, df):\n",
    "    data = [go.Bar(\n",
    "                x = df[var].unique(),\n",
    "                y = df[var].value_counts().values,\n",
    "                marker= dict(colorscale='Jet',\n",
    "                             color = df[var].value_counts().values\n",
    "                            ),\n",
    "                text='Number of comments for this category'\n",
    "        )]\n",
    "    layout = go.Layout(\n",
    "        title='Target variable distribution',\n",
    "        xaxis = dict(categoryorder='category ascending')\n",
    "    )\n",
    "\n",
    "    fig = go.Figure(data=data, layout=layout)\n",
    "\n",
    "    py.iplot(fig, filename='basic-bar')\n"
   ]
  },
  {
   "cell_type": "code",
   "execution_count": 16,
   "metadata": {
    "hidden": true
   },
   "outputs": [
    {
     "data": {
      "application/vnd.plotly.v1+json": {
       "data": [
        {
         "marker": {
          "color": [
           26521,
           12411
          ],
          "colorscale": "Jet"
         },
         "text": "Number of comments for this category",
         "type": "bar",
         "x": [
          "not_happy",
          "happy"
         ],
         "y": [
          26521,
          12411
         ]
        }
       ],
       "layout": {
        "title": "Target variable distribution",
        "xaxis": {
         "categoryorder": "category ascending"
        }
       }
      },
      "text/html": [
       "<div id=\"513a9fae-2f50-4190-be04-4f2603a82f38\" style=\"height: 525px; width: 100%;\" class=\"plotly-graph-div\"></div><script type=\"text/javascript\">require([\"plotly\"], function(Plotly) { window.PLOTLYENV=window.PLOTLYENV || {};window.PLOTLYENV.BASE_URL=\"https://plot.ly\";Plotly.newPlot(\"513a9fae-2f50-4190-be04-4f2603a82f38\", [{\"type\": \"bar\", \"x\": [\"not_happy\", \"happy\"], \"y\": [26521, 12411], \"marker\": {\"colorscale\": \"Jet\", \"color\": [26521, 12411]}, \"text\": \"Number of comments for this category\"}], {\"title\": \"Target variable distribution\", \"xaxis\": {\"categoryorder\": \"category ascending\"}}, {\"showLink\": true, \"linkText\": \"Export to plot.ly\"})});</script>"
      ],
      "text/vnd.plotly.v1+html": [
       "<div id=\"513a9fae-2f50-4190-be04-4f2603a82f38\" style=\"height: 525px; width: 100%;\" class=\"plotly-graph-div\"></div><script type=\"text/javascript\">require([\"plotly\"], function(Plotly) { window.PLOTLYENV=window.PLOTLYENV || {};window.PLOTLYENV.BASE_URL=\"https://plot.ly\";Plotly.newPlot(\"513a9fae-2f50-4190-be04-4f2603a82f38\", [{\"type\": \"bar\", \"x\": [\"not_happy\", \"happy\"], \"y\": [26521, 12411], \"marker\": {\"colorscale\": \"Jet\", \"color\": [26521, 12411]}, \"text\": \"Number of comments for this category\"}], {\"title\": \"Target variable distribution\", \"xaxis\": {\"categoryorder\": \"category ascending\"}}, {\"showLink\": true, \"linkText\": \"Export to plot.ly\"})});</script>"
      ]
     },
     "metadata": {},
     "output_type": "display_data"
    }
   ],
   "source": [
    "plot('Is_Response', train_df)"
   ]
  },
  {
   "cell_type": "code",
   "execution_count": 17,
   "metadata": {
    "hidden": true
   },
   "outputs": [
    {
     "data": {
      "application/vnd.plotly.v1+json": {
       "data": [
        {
         "marker": {
          "color": [
           10602,
           10595,
           5324,
           4431,
           4374,
           3606
          ],
          "colorscale": "Jet"
         },
         "text": "Number of comments for this category",
         "type": "bar",
         "x": [
          "Mobile_not_happy",
          "Tablet_not_happy",
          "Desktop_happy",
          "Mobile_happy",
          "Tablet_happy",
          "Desktop_not_happy"
         ],
         "y": [
          10602,
          10595,
          5324,
          4431,
          4374,
          3606
         ]
        }
       ],
       "layout": {
        "title": "Target variable distribution",
        "xaxis": {
         "categoryorder": "category ascending"
        }
       }
      },
      "text/html": [
       "<div id=\"7c2d449d-3f81-4f14-8744-20b39768ff54\" style=\"height: 525px; width: 100%;\" class=\"plotly-graph-div\"></div><script type=\"text/javascript\">require([\"plotly\"], function(Plotly) { window.PLOTLYENV=window.PLOTLYENV || {};window.PLOTLYENV.BASE_URL=\"https://plot.ly\";Plotly.newPlot(\"7c2d449d-3f81-4f14-8744-20b39768ff54\", [{\"type\": \"bar\", \"x\": [\"Mobile_not_happy\", \"Tablet_not_happy\", \"Desktop_happy\", \"Mobile_happy\", \"Tablet_happy\", \"Desktop_not_happy\"], \"y\": [10602, 10595, 5324, 4431, 4374, 3606], \"marker\": {\"colorscale\": \"Jet\", \"color\": [10602, 10595, 5324, 4431, 4374, 3606]}, \"text\": \"Number of comments for this category\"}], {\"title\": \"Target variable distribution\", \"xaxis\": {\"categoryorder\": \"category ascending\"}}, {\"showLink\": true, \"linkText\": \"Export to plot.ly\"})});</script>"
      ],
      "text/vnd.plotly.v1+html": [
       "<div id=\"7c2d449d-3f81-4f14-8744-20b39768ff54\" style=\"height: 525px; width: 100%;\" class=\"plotly-graph-div\"></div><script type=\"text/javascript\">require([\"plotly\"], function(Plotly) { window.PLOTLYENV=window.PLOTLYENV || {};window.PLOTLYENV.BASE_URL=\"https://plot.ly\";Plotly.newPlot(\"7c2d449d-3f81-4f14-8744-20b39768ff54\", [{\"type\": \"bar\", \"x\": [\"Mobile_not_happy\", \"Tablet_not_happy\", \"Desktop_happy\", \"Mobile_happy\", \"Tablet_happy\", \"Desktop_not_happy\"], \"y\": [10602, 10595, 5324, 4431, 4374, 3606], \"marker\": {\"colorscale\": \"Jet\", \"color\": [10602, 10595, 5324, 4431, 4374, 3606]}, \"text\": \"Number of comments for this category\"}], {\"title\": \"Target variable distribution\", \"xaxis\": {\"categoryorder\": \"category ascending\"}}, {\"showLink\": true, \"linkText\": \"Export to plot.ly\"})});</script>"
      ]
     },
     "metadata": {},
     "output_type": "display_data"
    }
   ],
   "source": [
    "plot('device_happy', train_df)"
   ]
  },
  {
   "cell_type": "code",
   "execution_count": 34,
   "metadata": {
    "collapsed": true,
    "hidden": true
   },
   "outputs": [
    {
     "data": {
      "application/vnd.plotly.v1+json": {
       "data": [
        {
         "marker": {
          "color": [
           15026,
           14976,
           8930
          ],
          "colorscale": "Jet"
         },
         "text": "Number of comments for this category",
         "type": "bar",
         "x": [
          "Mobile",
          "Tablet",
          "Desktop"
         ],
         "y": [
          15026,
          14976,
          8930
         ]
        }
       ],
       "layout": {
        "title": "Target variable distribution",
        "xaxis": {
         "categoryorder": "category ascending"
        }
       }
      },
      "text/html": [
       "<div id=\"adec066e-81a1-4008-afd8-ceda6217807b\" style=\"height: 525px; width: 100%;\" class=\"plotly-graph-div\"></div><script type=\"text/javascript\">require([\"plotly\"], function(Plotly) { window.PLOTLYENV=window.PLOTLYENV || {};window.PLOTLYENV.BASE_URL=\"https://plot.ly\";Plotly.newPlot(\"adec066e-81a1-4008-afd8-ceda6217807b\", [{\"type\": \"bar\", \"x\": [\"Mobile\", \"Tablet\", \"Desktop\"], \"y\": [15026, 14976, 8930], \"marker\": {\"colorscale\": \"Jet\", \"color\": [15026, 14976, 8930]}, \"text\": \"Number of comments for this category\"}], {\"title\": \"Target variable distribution\", \"xaxis\": {\"categoryorder\": \"category ascending\"}}, {\"showLink\": true, \"linkText\": \"Export to plot.ly\"})});</script>"
      ],
      "text/vnd.plotly.v1+html": [
       "<div id=\"adec066e-81a1-4008-afd8-ceda6217807b\" style=\"height: 525px; width: 100%;\" class=\"plotly-graph-div\"></div><script type=\"text/javascript\">require([\"plotly\"], function(Plotly) { window.PLOTLYENV=window.PLOTLYENV || {};window.PLOTLYENV.BASE_URL=\"https://plot.ly\";Plotly.newPlot(\"adec066e-81a1-4008-afd8-ceda6217807b\", [{\"type\": \"bar\", \"x\": [\"Mobile\", \"Tablet\", \"Desktop\"], \"y\": [15026, 14976, 8930], \"marker\": {\"colorscale\": \"Jet\", \"color\": [15026, 14976, 8930]}, \"text\": \"Number of comments for this category\"}], {\"title\": \"Target variable distribution\", \"xaxis\": {\"categoryorder\": \"category ascending\"}}, {\"showLink\": true, \"linkText\": \"Export to plot.ly\"})});</script>"
      ]
     },
     "metadata": {},
     "output_type": "display_data"
    }
   ],
   "source": [
    "plot('Device_Used', train_df)"
   ]
  },
  {
   "cell_type": "code",
   "execution_count": 35,
   "metadata": {
    "collapsed": true,
    "hidden": true
   },
   "outputs": [
    {
     "data": {
      "application/vnd.plotly.v1+json": {
       "data": [
        {
         "marker": {
          "color": [
           7367,
           7134,
           4659,
           4588,
           4328,
           3092,
           2470,
           2439,
           2103,
           390,
           362
          ],
          "colorscale": "Jet"
         },
         "text": "Number of comments for this category",
         "type": "bar",
         "x": [
          "Edge",
          "Internet Explorer",
          "Mozilla",
          "InternetExplorer",
          "Firefox",
          "Google Chrome",
          "Chrome",
          "IE",
          "Opera",
          "Mozilla Firefox",
          "Safari"
         ],
         "y": [
          7367,
          7134,
          4659,
          4588,
          4328,
          3092,
          2470,
          2439,
          2103,
          390,
          362
         ]
        }
       ],
       "layout": {
        "title": "Target variable distribution",
        "xaxis": {
         "categoryorder": "category ascending"
        }
       }
      },
      "text/html": [
       "<div id=\"fc9b2974-eeb4-4d1a-9e23-9316acf49e50\" style=\"height: 525px; width: 100%;\" class=\"plotly-graph-div\"></div><script type=\"text/javascript\">require([\"plotly\"], function(Plotly) { window.PLOTLYENV=window.PLOTLYENV || {};window.PLOTLYENV.BASE_URL=\"https://plot.ly\";Plotly.newPlot(\"fc9b2974-eeb4-4d1a-9e23-9316acf49e50\", [{\"type\": \"bar\", \"x\": [\"Edge\", \"Internet Explorer\", \"Mozilla\", \"InternetExplorer\", \"Firefox\", \"Google Chrome\", \"Chrome\", \"IE\", \"Opera\", \"Mozilla Firefox\", \"Safari\"], \"y\": [7367, 7134, 4659, 4588, 4328, 3092, 2470, 2439, 2103, 390, 362], \"marker\": {\"colorscale\": \"Jet\", \"color\": [7367, 7134, 4659, 4588, 4328, 3092, 2470, 2439, 2103, 390, 362]}, \"text\": \"Number of comments for this category\"}], {\"title\": \"Target variable distribution\", \"xaxis\": {\"categoryorder\": \"category ascending\"}}, {\"showLink\": true, \"linkText\": \"Export to plot.ly\"})});</script>"
      ],
      "text/vnd.plotly.v1+html": [
       "<div id=\"fc9b2974-eeb4-4d1a-9e23-9316acf49e50\" style=\"height: 525px; width: 100%;\" class=\"plotly-graph-div\"></div><script type=\"text/javascript\">require([\"plotly\"], function(Plotly) { window.PLOTLYENV=window.PLOTLYENV || {};window.PLOTLYENV.BASE_URL=\"https://plot.ly\";Plotly.newPlot(\"fc9b2974-eeb4-4d1a-9e23-9316acf49e50\", [{\"type\": \"bar\", \"x\": [\"Edge\", \"Internet Explorer\", \"Mozilla\", \"InternetExplorer\", \"Firefox\", \"Google Chrome\", \"Chrome\", \"IE\", \"Opera\", \"Mozilla Firefox\", \"Safari\"], \"y\": [7367, 7134, 4659, 4588, 4328, 3092, 2470, 2439, 2103, 390, 362], \"marker\": {\"colorscale\": \"Jet\", \"color\": [7367, 7134, 4659, 4588, 4328, 3092, 2470, 2439, 2103, 390, 362]}, \"text\": \"Number of comments for this category\"}], {\"title\": \"Target variable distribution\", \"xaxis\": {\"categoryorder\": \"category ascending\"}}, {\"showLink\": true, \"linkText\": \"Export to plot.ly\"})});</script>"
      ]
     },
     "metadata": {},
     "output_type": "display_data"
    }
   ],
   "source": [
    "plot('Browser_Used', train_df)"
   ]
  },
  {
   "cell_type": "code",
   "execution_count": 18,
   "metadata": {
    "collapsed": true,
    "hidden": true
   },
   "outputs": [
    {
     "data": {
      "application/vnd.plotly.v1+json": {
       "data": [
        {
         "marker": {
          "color": [
           4035,
           3967,
           3916,
           3685,
           3682,
           3218,
           3203,
           2103,
           2099,
           1845,
           1841,
           1251,
           1125,
           624,
           621,
           367,
           340,
           284,
           258,
           241,
           121,
           106
          ],
          "colorscale": "Jet"
         },
         "text": "Number of comments for this category",
         "type": "bar",
         "x": [
          "Edge_not_happy",
          "Internet Explorer_not_happy",
          "Mozilla_not_happy",
          "InternetExplorer_happy",
          "Firefox_not_happy",
          "Google Chrome_happy",
          "Internet Explorer_happy",
          "Chrome_not_happy",
          "IE_happy",
          "Chrome_happy",
          "Mozilla_happy",
          "Google Chrome_not_happy",
          "Firefox_happy",
          "Opera_not_happy",
          "Mozilla Firefox_happy",
          "InternetExplorer_not_happy",
          "Edge_happy",
          "IE_not_happy",
          "Safari_happy",
          "Opera_happy",
          "Safari_not_happy",
          "Mozilla Firefox_not_happy"
         ],
         "y": [
          4035,
          3967,
          3916,
          3685,
          3682,
          3218,
          3203,
          2103,
          2099,
          1845,
          1841,
          1251,
          1125,
          624,
          621,
          367,
          340,
          284,
          258,
          241,
          121,
          106
         ]
        }
       ],
       "layout": {
        "title": "Target variable distribution",
        "xaxis": {
         "categoryorder": "category ascending"
        }
       }
      },
      "text/html": [
       "<div id=\"44dc5eb6-bb06-4e6b-9a4f-30ea855cff01\" style=\"height: 525px; width: 100%;\" class=\"plotly-graph-div\"></div><script type=\"text/javascript\">require([\"plotly\"], function(Plotly) { window.PLOTLYENV=window.PLOTLYENV || {};window.PLOTLYENV.BASE_URL=\"https://plot.ly\";Plotly.newPlot(\"44dc5eb6-bb06-4e6b-9a4f-30ea855cff01\", [{\"type\": \"bar\", \"x\": [\"Edge_not_happy\", \"Internet Explorer_not_happy\", \"Mozilla_not_happy\", \"InternetExplorer_happy\", \"Firefox_not_happy\", \"Google Chrome_happy\", \"Internet Explorer_happy\", \"Chrome_not_happy\", \"IE_happy\", \"Chrome_happy\", \"Mozilla_happy\", \"Google Chrome_not_happy\", \"Firefox_happy\", \"Opera_not_happy\", \"Mozilla Firefox_happy\", \"InternetExplorer_not_happy\", \"Edge_happy\", \"IE_not_happy\", \"Safari_happy\", \"Opera_happy\", \"Safari_not_happy\", \"Mozilla Firefox_not_happy\"], \"y\": [4035, 3967, 3916, 3685, 3682, 3218, 3203, 2103, 2099, 1845, 1841, 1251, 1125, 624, 621, 367, 340, 284, 258, 241, 121, 106], \"marker\": {\"colorscale\": \"Jet\", \"color\": [4035, 3967, 3916, 3685, 3682, 3218, 3203, 2103, 2099, 1845, 1841, 1251, 1125, 624, 621, 367, 340, 284, 258, 241, 121, 106]}, \"text\": \"Number of comments for this category\"}], {\"title\": \"Target variable distribution\", \"xaxis\": {\"categoryorder\": \"category ascending\"}}, {\"showLink\": true, \"linkText\": \"Export to plot.ly\"})});</script>"
      ],
      "text/vnd.plotly.v1+html": [
       "<div id=\"44dc5eb6-bb06-4e6b-9a4f-30ea855cff01\" style=\"height: 525px; width: 100%;\" class=\"plotly-graph-div\"></div><script type=\"text/javascript\">require([\"plotly\"], function(Plotly) { window.PLOTLYENV=window.PLOTLYENV || {};window.PLOTLYENV.BASE_URL=\"https://plot.ly\";Plotly.newPlot(\"44dc5eb6-bb06-4e6b-9a4f-30ea855cff01\", [{\"type\": \"bar\", \"x\": [\"Edge_not_happy\", \"Internet Explorer_not_happy\", \"Mozilla_not_happy\", \"InternetExplorer_happy\", \"Firefox_not_happy\", \"Google Chrome_happy\", \"Internet Explorer_happy\", \"Chrome_not_happy\", \"IE_happy\", \"Chrome_happy\", \"Mozilla_happy\", \"Google Chrome_not_happy\", \"Firefox_happy\", \"Opera_not_happy\", \"Mozilla Firefox_happy\", \"InternetExplorer_not_happy\", \"Edge_happy\", \"IE_not_happy\", \"Safari_happy\", \"Opera_happy\", \"Safari_not_happy\", \"Mozilla Firefox_not_happy\"], \"y\": [4035, 3967, 3916, 3685, 3682, 3218, 3203, 2103, 2099, 1845, 1841, 1251, 1125, 624, 621, 367, 340, 284, 258, 241, 121, 106], \"marker\": {\"colorscale\": \"Jet\", \"color\": [4035, 3967, 3916, 3685, 3682, 3218, 3203, 2103, 2099, 1845, 1841, 1251, 1125, 624, 621, 367, 340, 284, 258, 241, 121, 106]}, \"text\": \"Number of comments for this category\"}], {\"title\": \"Target variable distribution\", \"xaxis\": {\"categoryorder\": \"category ascending\"}}, {\"showLink\": true, \"linkText\": \"Export to plot.ly\"})});</script>"
      ]
     },
     "metadata": {},
     "output_type": "display_data"
    }
   ],
   "source": [
    "plot('browser_happy', train_df)"
   ]
  },
  {
   "cell_type": "markdown",
   "metadata": {
    "heading_collapsed": true
   },
   "source": [
    "### Build language model"
   ]
  },
  {
   "cell_type": "code",
   "execution_count": null,
   "metadata": {
    "hidden": true
   },
   "outputs": [],
   "source": [
    "lang_train_df=pd.concat([test_df,full_train_df])"
   ]
  },
  {
   "cell_type": "code",
   "execution_count": 7,
   "metadata": {
    "hidden": true
   },
   "outputs": [],
   "source": [
    "TEXT = torchtext.data.Field(lower=True, tokenize=spacy_tok)"
   ]
  },
  {
   "cell_type": "code",
   "execution_count": 8,
   "metadata": {
    "hidden": true,
    "scrolled": true
   },
   "outputs": [],
   "source": [
    "md = LanguageModelData.from_dataframes(PATH, TEXT, 'Description',\n",
    "      train_df, tiny_df, tiny_df, bs=bs, bptt=bptt, min_freq=7)"
   ]
  },
  {
   "cell_type": "code",
   "execution_count": 9,
   "metadata": {
    "hidden": true
   },
   "outputs": [],
   "source": [
    "pickle.dump(TEXT, open(f'{PATH}/models/h5TEXT.pkl','wb'))"
   ]
  },
  {
   "cell_type": "code",
   "execution_count": null,
   "metadata": {
    "hidden": true
   },
   "outputs": [],
   "source": []
  },
  {
   "cell_type": "code",
   "execution_count": 10,
   "metadata": {
    "hidden": true
   },
   "outputs": [],
   "source": [
    "mult=2\n",
    "DROPOUT=dict(dropouti=0.05*mult, dropout=0.05*mult, wdrop=0.1*mult, dropoute=0.02*mult, dropouth=0.05*mult)"
   ]
  },
  {
   "cell_type": "code",
   "execution_count": 11,
   "metadata": {
    "hidden": true,
    "scrolled": true
   },
   "outputs": [],
   "source": [
    "learner = md.get_model(opt_fn, em_sz, nh, nl, **DROPOUT)\n",
    "learner.reg_fn = partial(seq2seq_reg, alpha=2, beta=1)\n",
    "learner.clip=0.3"
   ]
  },
  {
   "cell_type": "code",
   "execution_count": 8,
   "metadata": {
    "hidden": true
   },
   "outputs": [
    {
     "data": {
      "application/vnd.jupyter.widget-view+json": {
       "model_id": "fb6af18e2d9d483f8b2f3c1e263836a5",
       "version_major": 2,
       "version_minor": 0
      },
      "text/plain": [
       "A Jupyter Widget"
      ]
     },
     "metadata": {},
     "output_type": "display_data"
    },
    {
     "name": "stdout",
     "output_type": "stream",
     "text": [
      " 81%|████████▏ | 966/1187 [02:51<00:39,  5.63it/s, loss=nan] "
     ]
    }
   ],
   "source": [
    "lrf=learner.lr_find()"
   ]
  },
  {
   "cell_type": "code",
   "execution_count": 9,
   "metadata": {
    "hidden": true,
    "scrolled": true
   },
   "outputs": [
    {
     "data": {
      "image/png": "[encoded data removed]",
      "text/plain": [
       "<matplotlib.figure.Figure at 0x7fdaa52c6748>"
      ]
     },
     "metadata": {},
     "output_type": "display_data"
    }
   ],
   "source": [
    "learner.sched.plot()"
   ]
  },
  {
   "cell_type": "code",
   "execution_count": 18,
   "metadata": {
    "hidden": true
   },
   "outputs": [
    {
     "data": {
      "application/vnd.jupyter.widget-view+json": {
       "model_id": "e1ec123febf14adabb57bae1059d96f0"
      }
     },
     "metadata": {},
     "output_type": "display_data"
    },
    {
     "name": "stdout",
     "output_type": "stream",
     "text": [
      "[ 0.       4.4612   4.67984]                                  \n",
      "[ 1.       3.8485   3.91509]                                  \n",
      "[ 2.       3.70472  3.7656 ]                                  \n",
      "[ 3.       3.75487  3.82334]                                  \n",
      "[ 4.       3.67886  3.74017]                                  \n",
      "[ 5.       3.58253  3.64084]                                  \n",
      "[ 6.       3.56181  3.5991 ]                                  \n",
      "[ 7.       3.72164  3.77158]                                  \n",
      "[ 8.       3.68869  3.76386]                                  \n",
      "[ 9.       3.64241  3.69053]                                  \n",
      "[ 10.        3.59604   3.65759]                               \n",
      "[ 11.        3.55332   3.59549]                               \n",
      "[ 12.        3.50279   3.53896]                               \n",
      "[ 13.        3.47026   3.50995]                               \n",
      "[ 14.        3.45431   3.47282]                               \n",
      "[ 15.        3.65736   3.70558]                               \n",
      "[ 16.        3.65703   3.71554]                               \n",
      "[ 17.        3.63721   3.70862]                               \n",
      "[ 18.        3.61482   3.66465]                               \n",
      "[ 19.        3.60718   3.67383]                               \n",
      "[ 20.        3.57941   3.62286]                               \n",
      "[ 21.        3.55339   3.60175]                               \n",
      "[ 22.        3.53459   3.5682 ]                               \n",
      "[ 23.        3.50325   3.56409]                               \n",
      "[ 24.        3.48032   3.52119]                               \n",
      "[ 25.        3.46575   3.47771]                               \n",
      "[ 26.        3.43777   3.45667]                               \n",
      "[ 27.        3.40487   3.44496]                               \n",
      "[ 28.        3.37777   3.42433]                               \n",
      "[ 29.        3.36152   3.38008]                               \n",
      "[ 30.        3.35884   3.38738]                               \n",
      "\n"
     ]
    }
   ],
   "source": [
    "learner.fit(1e-2, 5, wds=1e-6, cycle_len=1, cycle_mult=2, cycle_save_name='h5_adam1')"
   ]
  },
  {
   "cell_type": "code",
   "execution_count": 19,
   "metadata": {
    "hidden": true
   },
   "outputs": [
    {
     "data": {
      "application/vnd.jupyter.widget-view+json": {
       "model_id": "f6ce8fbfea964561aad54e806ae5d7e2"
      }
     },
     "metadata": {},
     "output_type": "display_data"
    },
    {
     "name": "stdout",
     "output_type": "stream",
     "text": [
      "[ 0.       3.48213  3.49222]                                  \n",
      "[ 1.       3.54198  3.57655]                                  \n",
      "[ 2.       3.42899  3.46079]                                  \n",
      "[ 3.       3.59254  3.64131]                                  \n",
      "[ 4.       3.51461  3.54973]                                  \n",
      "[ 5.       3.42882  3.46854]                                  \n",
      "[ 6.       3.37162  3.38402]                                  \n",
      "[ 7.       3.59175  3.72203]                                  \n",
      "[ 8.       3.57833  3.62001]                                  \n",
      "[ 9.       3.54232  3.57926]                                  \n",
      "[ 10.        3.48887   3.53993]                               \n",
      "[ 11.        3.42035   3.49491]                               \n",
      "[ 12.        3.39485   3.41802]                               \n",
      "[ 13.        3.34289   3.38387]                               \n",
      "[ 14.        3.32934   3.35825]                               \n",
      "\n"
     ]
    }
   ],
   "source": [
    "learner.fit(1e-2, 4, wds=1e-6, cycle_len=1, cycle_mult=2, cycle_save_name='h5_adam2')"
   ]
  },
  {
   "cell_type": "code",
   "execution_count": 20,
   "metadata": {
    "hidden": true
   },
   "outputs": [
    {
     "data": {
      "application/vnd.jupyter.widget-view+json": {
       "model_id": "c010405cd20b4777b217b4674c4a6662"
      }
     },
     "metadata": {},
     "output_type": "display_data"
    },
    {
     "name": "stdout",
     "output_type": "stream",
     "text": [
      "[ 0.       3.59194  3.64874]                                  \n",
      "[ 1.       3.59391  3.63885]                                  \n",
      "[ 2.       3.5902   3.62841]                                  \n",
      "\n"
     ]
    }
   ],
   "source": [
    "learner.fit(1e-2, 2, wds=1e-6, cycle_save_name='h5_adam4')"
   ]
  },
  {
   "cell_type": "code",
   "execution_count": 13,
   "metadata": {
    "hidden": true
   },
   "outputs": [
    {
     "name": "stderr",
     "output_type": "stream",
     "text": [
      "Widget Javascript not detected.  It may not be installed or enabled properly.\n"
     ]
    },
    {
     "data": {
      "application/vnd.jupyter.widget-view+json": {
       "model_id": "d2589f003ffe4a68a32c3cb13e7ba60e"
      }
     },
     "metadata": {},
     "output_type": "display_data"
    },
    {
     "name": "stdout",
     "output_type": "stream",
     "text": [
      "[ 0.       3.44062  3.47874]                                  \n",
      "[ 1.       3.51631  3.55192]                                  \n",
      "[ 2.       3.37249  3.39874]                                  \n",
      "[ 3.       3.5635   3.63265]                                  \n",
      "[ 4.       3.49326  3.52714]                                  \n",
      "[ 5.       3.4001   3.46319]                                  \n",
      "[ 6.       3.34938  3.37554]                                  \n",
      "[ 7.       3.58485  3.6219 ]                                  \n",
      "[ 8.       3.56327  3.5995 ]                                  \n",
      "[ 9.       3.52391  3.56978]                                  \n",
      "[ 10.        3.47817   3.5462 ]                               \n",
      "[ 11.        3.42828   3.49216]                               \n",
      "[ 12.        3.3739    3.40695]                               \n",
      "[ 13.        3.31672   3.35445]                               \n",
      "[ 14.        3.31605   3.34446]                               \n",
      "[ 15.        3.57481   3.63894]                               \n",
      "[ 16.        3.56702   3.61012]                               \n",
      "[ 17.        3.56006   3.61419]                               \n",
      "[ 18.        3.53078   3.59956]                               \n",
      "[ 19.        3.52427   3.593  ]                               \n",
      "[ 20.        3.49127   3.56932]                               \n",
      "[ 21.        3.48131   3.53392]                               \n",
      "[ 22.        3.44682   3.51154]                               \n",
      "[ 23.        3.42937   3.49005]                               \n",
      "[ 24.        3.39255   3.45412]                               \n",
      "[ 25.        3.36901   3.407  ]                               \n",
      "[ 26.        3.33323   3.39897]                               \n",
      "[ 27.        3.32493   3.34709]                               \n",
      "[ 28.        3.30144   3.32263]                               \n",
      "[ 29.       3.2793   3.3161]                                  \n",
      "[ 30.        3.28905   3.31965]                               \n",
      "[ 31.        3.55976   3.61893]                               \n",
      "[ 32.        3.56571   3.61282]                               \n",
      "[ 33.        3.55816   3.61658]                               \n",
      "[ 34.        3.5656    3.63395]                               \n",
      "[ 35.        3.54245   3.74695]                               \n",
      "[ 36.       3.5516   3.6312]                                  \n",
      "[ 37.        3.53963   3.61129]                               \n",
      "[ 38.        3.52644   3.6037 ]                               \n",
      "[ 39.        3.51773   3.57964]                               \n",
      "[ 40.        3.51497   3.59534]                               \n",
      "[ 41.        3.50264   3.65143]                               \n",
      "[ 42.        3.48697   3.55563]                               \n",
      "[ 43.        3.47179   3.54472]                               \n",
      "[ 44.        3.46962   3.56133]                               \n",
      "[ 45.        3.4516    3.52202]                               \n",
      "[ 46.        3.4393    3.50358]                               \n",
      "[ 47.        3.42964   3.49648]                               \n",
      "[ 48.        3.39427   3.47374]                               \n",
      "[ 49.        3.40126   3.47044]                               \n",
      "[ 50.        3.37732   3.44049]                               \n",
      "[ 51.        3.3627    3.41943]                               \n",
      "[ 52.        3.33351   3.40808]                               \n",
      "[ 53.        3.33287   3.38734]                               \n",
      "[ 54.        3.30157   3.37464]                               \n",
      "[ 55.        3.31906   3.33725]                               \n",
      "[ 56.        3.26735   3.33439]                               \n",
      "[ 57.        3.2811    3.32689]                               \n",
      "[ 58.       3.2466   3.2898]                                  \n",
      "[ 59.        3.25022   3.29616]                               \n",
      "[ 60.        3.21976   3.26711]                               \n",
      "[ 61.        3.24819   3.28962]                               \n",
      "[ 62.        3.23456   3.26954]                               \n",
      "\n"
     ]
    }
   ],
   "source": [
    "learner.fit(1e-2, 6, wds=1e-6, cycle_len=1, cycle_mult=2, cycle_save_name='h5_adam5')"
   ]
  },
  {
   "cell_type": "code",
   "execution_count": 26,
   "metadata": {
    "hidden": true,
    "scrolled": true
   },
   "outputs": [
    {
     "name": "stderr",
     "output_type": "stream",
     "text": [
      "Widget Javascript not detected.  It may not be installed or enabled properly.\n"
     ]
    },
    {
     "data": {
      "application/vnd.jupyter.widget-view+json": {
       "model_id": "336a261ed9cd4d01b4e3b5b12045a3c7"
      }
     },
     "metadata": {},
     "output_type": "display_data"
    },
    {
     "name": "stdout",
     "output_type": "stream",
     "text": [
      "[ 0.       3.39287  3.42433]                                  \n",
      "[ 1.       3.46124  3.50182]                                  \n",
      "[ 2.       3.35253  3.36784]                                  \n",
      "[ 3.       3.54116  3.59807]                                  \n",
      "[ 4.       3.46228  3.50665]                                  \n",
      "[ 5.       3.36589  3.58602]                                  \n",
      "[ 6.       3.29823  3.36935]                                  \n",
      "[ 7.       3.54665  3.62275]                                  \n",
      "[ 8.       3.51633  3.58916]                                  \n",
      "[ 9.       3.49357  3.55419]                                  \n",
      "[ 10.        3.41506   3.5307 ]                               \n",
      "[ 11.        3.37939   3.46906]                               \n",
      "[ 12.        3.34791   3.41782]                               \n",
      "[ 13.        3.31168   3.35296]                               \n",
      "[ 14.        3.29382   3.34562]                               \n",
      "[ 15.        3.53213   3.60446]                               \n",
      "[ 16.        3.55394   3.69297]                               \n",
      "[ 17.        3.53314   3.6033 ]                               \n",
      "[ 18.        3.50563   3.58785]                               \n",
      "[ 19.        3.51384   3.57248]                               \n",
      "[ 20.        3.48282   3.54119]                               \n",
      "[ 21.        3.45845   3.54974]                               \n",
      "[ 22.        3.43318   3.50013]                               \n",
      "[ 23.        3.38989   3.4668 ]                               \n",
      "[ 24.        3.37873   3.4595 ]                               \n",
      "[ 25.        3.35864   3.41336]                               \n",
      "[ 26.        3.30863   3.37113]                               \n",
      "[ 27.        3.30475   3.33814]                               \n",
      "[ 28.        3.28183   3.30832]                               \n",
      "[ 29.        3.26489   3.30736]                               \n",
      "[ 30.        3.26451   3.30121]                               \n",
      "[ 31.        3.55353   3.61372]                               \n",
      "[ 32.        3.54986   3.62265]                               \n",
      "[ 33.        3.54851   3.6061 ]                               \n",
      "[ 34.        3.54094   3.59904]                               \n",
      "[ 35.        3.53629   3.62529]                               \n",
      "[ 36.        3.53887   3.59705]                               \n",
      "[ 37.        3.53077   3.63071]                               \n",
      "[ 38.        3.50738   3.60392]                               \n",
      "[ 39.        3.49978   3.57221]                               \n",
      "[ 40.        3.51274   3.56164]                               \n",
      "[ 41.        3.49354   3.54474]                               \n",
      "[ 42.        3.47848   3.53418]                               \n",
      "[ 43.        3.45103   3.52372]                               \n",
      "[ 44.        3.46426   3.61496]                               \n",
      "[ 45.        3.44698   3.5205 ]                               \n",
      "[ 46.        3.4211    3.49534]                               \n",
      "[ 47.        3.41525   3.47519]                               \n",
      "[ 48.        3.39642   3.43893]                               \n",
      "[ 49.        3.37128   3.44807]                               \n",
      "[ 50.        3.36758   3.41308]                               \n",
      "[ 51.        3.34758   3.3944 ]                               \n",
      "[ 52.        3.32584   3.38012]                               \n",
      "[ 53.        3.30652   3.35566]                               \n",
      "[ 54.        3.30341   3.35182]                               \n",
      "[ 55.        3.28326   3.3305 ]                               \n",
      "[ 56.        3.2776    3.30937]                               \n",
      "[ 57.        3.27307   3.32262]                               \n",
      "[ 58.        3.24661   3.28404]                               \n",
      "[ 59.        3.23364   3.29481]                               \n",
      "[ 60.        3.22738   3.27357]                               \n",
      "[ 61.        3.22581   3.26942]                               \n",
      "[ 62.        3.22182   3.25107]                               \n",
      "\n"
     ]
    }
   ],
   "source": [
    "learner.fit(1e-2, 6, wds=1e-6, cycle_len=1, cycle_mult=2, cycle_save_name='h5_adam6')"
   ]
  },
  {
   "cell_type": "code",
   "execution_count": 27,
   "metadata": {
    "hidden": true
   },
   "outputs": [],
   "source": [
    "learner.save_encoder('h5_adam6_enc')\n",
    "learner.save('h5_adam6')"
   ]
  },
  {
   "cell_type": "code",
   "execution_count": 12,
   "metadata": {
    "hidden": true
   },
   "outputs": [],
   "source": [
    "learner.load_cycle('h5_adam2', 3)\n",
    "learner.save_encoder('h5_adam2_cyc3_enc')"
   ]
  },
  {
   "cell_type": "markdown",
   "metadata": {
    "heading_collapsed": true
   },
   "source": [
    "### Checking the language model"
   ]
  },
  {
   "cell_type": "code",
   "execution_count": 22,
   "metadata": {
    "hidden": true
   },
   "outputs": [
    {
     "data": {
      "text/plain": [
       "'. the staff was not very friendly , and I'"
      ]
     },
     "execution_count": 22,
     "metadata": {},
     "output_type": "execute_result"
    }
   ],
   "source": [
    "m=learner.model\n",
    "ss=\". the staff was not very friendly, and I \"\n",
    "s = [spacy_tok(ss)]\n",
    "t=TEXT.numericalize(s)\n",
    "' '.join(s[0])"
   ]
  },
  {
   "cell_type": "code",
   "execution_count": 23,
   "metadata": {
    "hidden": true
   },
   "outputs": [],
   "source": [
    "# Set batch size to 1\n",
    "m[0].bs=1\n",
    "# Turn off dropout\n",
    "m.eval()\n",
    "# Reset hidden state\n",
    "m.reset()\n",
    "# Get predictions from model\n",
    "res,*_ = m(t)\n",
    "# Put the batch size back to what it was\n",
    "m[0].bs=bs"
   ]
  },
  {
   "cell_type": "code",
   "execution_count": 24,
   "metadata": {
    "hidden": true
   },
   "outputs": [
    {
     "name": "stdout",
     "output_type": "stream",
     "text": [
      ". the staff was not very friendly, and I  \n",
      "\n",
      ". the room was clean and the bed was comfortable . the room was clean and the bed was comfortable . the room was clean and the bed was comfortable . the location is great , right in the middle of everything . the staff was very friendly and helpful . the location is great , right in the middle of everything . the staff was very friendly and helpful ...\n"
     ]
    }
   ],
   "source": [
    "print(ss,\"\\n\")\n",
    "for i in range(70):\n",
    "    n=res[-1].topk(2)[1]\n",
    "    n = n[1] if n.data[0]==0 else n[0]\n",
    "    print(TEXT.vocab.itos[n.data[0]], end=' ')\n",
    "    res,*_ = m(n[0].unsqueeze(0))\n",
    "print('...')"
   ]
  },
  {
   "cell_type": "markdown",
   "metadata": {
    "heading_collapsed": true
   },
   "source": [
    "### find learning rate"
   ]
  },
  {
   "cell_type": "code",
   "execution_count": 34,
   "metadata": {
    "hidden": true
   },
   "outputs": [
    {
     "name": "stderr",
     "output_type": "stream",
     "text": [
      "Widget Javascript not detected.  It may not be installed or enabled properly.\n"
     ]
    },
    {
     "data": {
      "application/vnd.jupyter.widget-view+json": {
       "model_id": "88c74de0888c45f68666bc702b18564b"
      }
     },
     "metadata": {},
     "output_type": "display_data"
    },
    {
     "name": "stdout",
     "output_type": "stream",
     "text": [
      " 81%|████████▏ | 1501/1843 [01:52<00:25, 13.33it/s, loss=12.3]"
     ]
    }
   ],
   "source": [
    "lrf=learner.lr_find()\n"
   ]
  },
  {
   "cell_type": "code",
   "execution_count": 35,
   "metadata": {
    "hidden": true,
    "scrolled": true
   },
   "outputs": [
    {
     "data": {
      "image/png": "[encoded data removed]",
      "text/plain": [
       "<matplotlib.figure.Figure at 0x7fa2f6089b38>"
      ]
     },
     "metadata": {},
     "output_type": "display_data"
    },
    {
     "name": "stdout",
     "output_type": "stream",
     "text": [
      "\r",
      " 81%|████████▏ | 1501/1843 [02:10<00:29, 11.54it/s, loss=12.3]"
     ]
    }
   ],
   "source": [
    "learner.sched.plot()"
   ]
  },
  {
   "cell_type": "markdown",
   "metadata": {},
   "source": [
    "### helper functions"
   ]
  },
  {
   "cell_type": "code",
   "execution_count": 5,
   "metadata": {},
   "outputs": [],
   "source": [
    "model_name_base = 'h_cv_class4D_543LR_'+str(n_splits)+'S'\n",
    "i=0\n",
    "\n",
    "# function for renaming model and predictions files during CV looping\n",
    "def get_model_name(base, i):\n",
    "    name = base+str(i+1)\n",
    "    print(name)\n",
    "    return name, i+1\n",
    "\n",
    "def make_predictions(model, the_df, filename, probabilities=False):\n",
    "    m = model.model\n",
    "    m[0].bs = 1\n",
    "    preds = []\n",
    "    for i in tnrange(len(the_df)):\n",
    "        ss = the_df[\"Description\"][i] #Actual text review\n",
    "        s = [spacy_tok(ss)]\n",
    "        t = TEXT.numericalize(s)\n",
    "\n",
    "        m.eval()\n",
    "        m.reset()\n",
    "        res,*_ = m(t)\n",
    "        prediction = LABEL.vocab.itos[to_np(torch.topk(res[-1], 1)[1])[0]]\n",
    "        if probabilities:\n",
    "            prediction = to_np(F.softmax(np.exp(res[-1].data))[0])[0]\n",
    "        preds.append(prediction)\n",
    "    final_preds = pd.DataFrame({'User_ID': test_df['User_ID'],\n",
    "                                'Is_Response': preds})\n",
    "    final_preds[['User_ID', 'Is_Response']].to_csv(filename, index=False)\n",
    "    print('Finished: '+filename)\n",
    "\n",
    "# Class needed for sending data to torchtext\n",
    "class PredictHappinessDataset(torchtext.data.Dataset):\n",
    "    def __init__(self, path, text_field, label_field, device_field, browser_field, dfs, **kwargs):\n",
    "        fields = [(\"text\", text_field), (\"label\", label_field), (\"device\", device_field), (\"browser\", browser_field) ]\n",
    "        examples = []\n",
    "        for i in range(dfs[path].values[:,1].shape[0]):\n",
    "            text = dfs[path].Description[i]\n",
    "            label = None\n",
    "            device = dfs[path].Device_Used[i]\n",
    "            browser = dfs[path].Browser_Used[i]\n",
    "            if 'Is_Response' in dfs[path]:\n",
    "                label = dfs[path].Is_Response[i]\n",
    "            examples.append(data.Example.fromlist([text, label, device, browser], fields))\n",
    "        super().__init__(examples, fields, **kwargs)\n",
    "\n",
    "    @staticmethod\n",
    "    def sort_key(ex): return len(ex.text)\n",
    "    \n",
    "    @classmethod\n",
    "    def splits(cls, text_field, label_field, path,\n",
    "               train, val, test, dfs, device_field, browser_field, **kwargs):\n",
    "        return super().splits(path,\n",
    "            text_field=text_field, label_field=label_field, \n",
    "            train=train, validation=val, test=test, dfs=dfs, device_field = device_field, browser_field = browser_field, **kwargs)\n"
   ]
  },
  {
   "cell_type": "markdown",
   "metadata": {},
   "source": [
    "### Do cross validation for classification model"
   ]
  },
  {
   "cell_type": "code",
   "execution_count": 6,
   "metadata": {},
   "outputs": [
    {
     "data": {
      "application/vnd.jupyter.widget-view+json": {
       "model_id": "bca0724f804740799a6dc45fc97cd811"
      }
     },
     "metadata": {},
     "output_type": "display_data"
    },
    {
     "data": {
      "application/vnd.jupyter.widget-view+json": {
       "model_id": "5ad353b668594f9f95dbdaf04505efeb"
      }
     },
     "metadata": {},
     "output_type": "display_data"
    },
    {
     "name": "stdout",
     "output_type": "stream",
     "text": [
      "[ 0.       0.32843  0.28635  0.8866 ]                          \n"
     ]
    },
    {
     "data": {
      "application/vnd.jupyter.widget-view+json": {
       "model_id": "50780bb48ac4404fa651cd3d9290b2cb"
      }
     },
     "metadata": {},
     "output_type": "display_data"
    },
    {
     "name": "stdout",
     "output_type": "stream",
     "text": [
      "[ 0.       0.26446  0.24292  0.90335]                          \n"
     ]
    },
    {
     "data": {
      "application/vnd.jupyter.widget-view+json": {
       "model_id": "33edaac6e359422b92272657526fbaa9"
      }
     },
     "metadata": {},
     "output_type": "display_data"
    },
    {
     "name": "stdout",
     "output_type": "stream",
     "text": [
      "[ 0.       0.26667  0.23253  0.90696]                          \n",
      "[ 1.       0.25905  0.2232   0.91237]                          \n",
      "[ 2.       0.23735  0.22122  0.91366]                          \n",
      "[ 3.       0.27489  0.21866  0.91211]                          \n",
      "[ 4.       0.23413  0.21622  0.9134 ]                          \n",
      "[ 5.       0.20991  0.21637  0.91495]                          \n",
      "[ 6.       0.20167  0.21602  0.91624]                          \n",
      "[ 7.       0.24034  0.21467  0.91572]                          \n",
      "[ 8.       0.22643  0.2195   0.9134 ]                          \n",
      "[ 9.       0.22201  0.21475  0.91546]                          \n",
      "[ 10.        0.21867   0.21712   0.91675]                      \n",
      "[ 11.        0.2129    0.21436   0.91753]                      \n",
      "[ 12.        0.20466   0.2146    0.91572]                      \n",
      "[ 13.        0.21094   0.21561   0.91546]                      \n",
      "[ 14.        0.20863   0.21593   0.91598]                      \n",
      "h_cv_class4D_543LR_10S1\n"
     ]
    },
    {
     "data": {
      "application/vnd.jupyter.widget-view+json": {
       "model_id": "923b0c89a84c4165ba7101b10f43a2c4"
      }
     },
     "metadata": {},
     "output_type": "display_data"
    },
    {
     "name": "stdout",
     "output_type": "stream",
     "text": [
      "[ 0.       0.22319  0.22714  0.91572]                          \n"
     ]
    },
    {
     "data": {
      "application/vnd.jupyter.widget-view+json": {
       "model_id": "38481551857c4c5b9115e4a34ae6a96c"
      }
     },
     "metadata": {},
     "output_type": "display_data"
    },
    {
     "name": "stdout",
     "output_type": "stream",
     "text": [
      "[ 0.       0.3273   0.29057  0.8817 ]                          \n"
     ]
    },
    {
     "data": {
      "application/vnd.jupyter.widget-view+json": {
       "model_id": "2c662ea8240042b9b290756911249110"
      }
     },
     "metadata": {},
     "output_type": "display_data"
    },
    {
     "name": "stdout",
     "output_type": "stream",
     "text": [
      "[ 0.       0.27633  0.23023  0.90747]                          \n"
     ]
    },
    {
     "data": {
      "application/vnd.jupyter.widget-view+json": {
       "model_id": "edc1dad26aed4f33a516eba49d44b3d6"
      }
     },
     "metadata": {},
     "output_type": "display_data"
    },
    {
     "name": "stdout",
     "output_type": "stream",
     "text": [
      "[ 0.       0.2508   0.22123  0.91289]                          \n",
      "[ 1.       0.24734  0.22173  0.91366]                          \n",
      "[ 2.       0.24495  0.2112   0.91521]                          \n",
      "[ 3.       0.26653  0.2076   0.91495]                          \n",
      "[ 4.       0.22374  0.20738  0.9201 ]                          \n",
      "[ 5.       0.23392  0.20397  0.9183 ]                          \n",
      "[ 6.       0.23546  0.204    0.92062]                          \n",
      "[ 7.       0.2064   0.20532  0.91959]                          \n",
      "[ 8.       0.24003  0.2104   0.90979]                          \n",
      "[ 9.       0.21308  0.20875  0.92113]                          \n",
      "[ 10.        0.21506   0.20133   0.91778]                      \n",
      "[ 11.        0.2219    0.20154   0.91959]                      \n",
      "[ 12.        0.20765   0.20096   0.91907]                      \n",
      "[ 13.        0.21732   0.20043   0.92088]                      \n",
      "[ 14.        0.21136   0.20042   0.91959]                      \n",
      "h_cv_class4D_543LR_10S2\n"
     ]
    },
    {
     "data": {
      "application/vnd.jupyter.widget-view+json": {
       "model_id": "bcb60059a26d48699484e9227d21a215"
      }
     },
     "metadata": {},
     "output_type": "display_data"
    },
    {
     "name": "stdout",
     "output_type": "stream",
     "text": [
      "[ 0.       0.24049  0.207    0.92036]                          \n"
     ]
    },
    {
     "data": {
      "application/vnd.jupyter.widget-view+json": {
       "model_id": "85a2cc82388342d789f18588dc61615a"
      }
     },
     "metadata": {},
     "output_type": "display_data"
    },
    {
     "name": "stdout",
     "output_type": "stream",
     "text": [
      "[ 0.       0.32853  0.29241  0.87964]                          \n"
     ]
    },
    {
     "data": {
      "application/vnd.jupyter.widget-view+json": {
       "model_id": "2a05827e9773409a918da0813c2a31aa"
      }
     },
     "metadata": {},
     "output_type": "display_data"
    },
    {
     "name": "stdout",
     "output_type": "stream",
     "text": [
      "[ 0.       0.26552  0.24449  0.90129]                          \n"
     ]
    },
    {
     "data": {
      "application/vnd.jupyter.widget-view+json": {
       "model_id": "00ec2eea554a48cf8ecb77143c5faf39"
      }
     },
     "metadata": {},
     "output_type": "display_data"
    },
    {
     "name": "stdout",
     "output_type": "stream",
     "text": [
      "[ 0.       0.27906  0.23291  0.90541]                          \n",
      "[ 1.       0.28017  0.22735  0.90644]                          \n",
      "[ 2.       0.25865  0.22636  0.90644]                          \n",
      "[ 3.       0.25665  0.22305  0.90979]                          \n",
      "[ 4.       0.21647  0.22435  0.91417]                          \n",
      "[ 5.       0.20477  0.22396  0.90979]                          \n",
      "[ 6.       0.22643  0.22043  0.91134]                          \n",
      "[ 7.       0.22378  0.22264  0.91495]                          \n",
      "[ 8.       0.22565  0.22171  0.91211]                          \n",
      "[ 9.       0.22864  0.21829  0.91521]                          \n",
      "[ 10.        0.21366   0.22258   0.91005]                      \n",
      "[ 11.        0.18481   0.21971   0.91443]                      \n",
      "[ 12.        0.21339   0.2169    0.91624]                      \n",
      "[ 13.        0.22167   0.21766   0.91649]                      \n",
      "[ 14.        0.19338   0.21783   0.91495]                      \n",
      "h_cv_class4D_543LR_10S3\n"
     ]
    },
    {
     "data": {
      "application/vnd.jupyter.widget-view+json": {
       "model_id": "dfc57397e1f543a1a80fded6f18a9f92"
      }
     },
     "metadata": {},
     "output_type": "display_data"
    },
    {
     "name": "stdout",
     "output_type": "stream",
     "text": [
      "[ 0.       0.21666  0.23525  0.91211]                          \n"
     ]
    },
    {
     "data": {
      "application/vnd.jupyter.widget-view+json": {
       "model_id": "b7d07468428a419d83fccd53c2f6f331"
      }
     },
     "metadata": {},
     "output_type": "display_data"
    },
    {
     "name": "stdout",
     "output_type": "stream",
     "text": [
      "[ 0.       0.35839  0.28643  0.88428]                          \n"
     ]
    },
    {
     "data": {
      "application/vnd.jupyter.widget-view+json": {
       "model_id": "ff750fa6969c4e53a7908e0789b0fff0"
      }
     },
     "metadata": {},
     "output_type": "display_data"
    },
    {
     "name": "stdout",
     "output_type": "stream",
     "text": [
      "[ 0.       0.28485  0.24807  0.90129]                          \n"
     ]
    },
    {
     "data": {
      "application/vnd.jupyter.widget-view+json": {
       "model_id": "04b52dc05fea4007a4576e58f69da2ac"
      }
     },
     "metadata": {},
     "output_type": "display_data"
    },
    {
     "name": "stdout",
     "output_type": "stream",
     "text": [
      "[ 0.       0.26656  0.23755  0.90387]                          \n",
      "[ 1.       0.23387  0.23053  0.90644]                          \n",
      "[ 2.       0.24264  0.22881  0.90567]                          \n",
      "[ 3.       0.25114  0.22745  0.90954]                          \n",
      "[ 4.       0.22588  0.22659  0.90928]                          \n",
      "[ 5.       0.2425   0.2244   0.90799]                          \n",
      "[ 6.       0.23963  0.22511  0.9067 ]                          \n",
      "[ 7.       0.23715  0.23082  0.90541]                          \n",
      "[ 8.       0.22386  0.22454  0.90851]                          \n",
      "[ 9.       0.20429  0.23058  0.90593]                          \n",
      "[ 10.        0.20453   0.2271    0.91005]                      \n",
      "[ 11.        0.2192    0.22635   0.90851]                      \n",
      "[ 12.        0.21689   0.22491   0.90928]                      \n",
      "[ 13.        0.18283   0.22554   0.90928]                      \n",
      "[ 14.        0.21098   0.22595   0.90928]                      \n",
      "h_cv_class4D_543LR_10S4\n"
     ]
    },
    {
     "data": {
      "application/vnd.jupyter.widget-view+json": {
       "model_id": "5b05accfaf4f459e91593b25175a31cf"
      }
     },
     "metadata": {},
     "output_type": "display_data"
    },
    {
     "name": "stdout",
     "output_type": "stream",
     "text": [
      "[ 0.       0.21656  0.24496  0.90696]                          \n"
     ]
    },
    {
     "data": {
      "application/vnd.jupyter.widget-view+json": {
       "model_id": "ae6f322be9ff49e182b5187497380307"
      }
     },
     "metadata": {},
     "output_type": "display_data"
    },
    {
     "name": "stdout",
     "output_type": "stream",
     "text": [
      "[ 0.       0.34847  0.29622  0.87603]                          \n"
     ]
    },
    {
     "data": {
      "application/vnd.jupyter.widget-view+json": {
       "model_id": "de22d56fcdef449e800500e672b42adc"
      }
     },
     "metadata": {},
     "output_type": "display_data"
    },
    {
     "name": "stdout",
     "output_type": "stream",
     "text": [
      "[ 0.       0.27599  0.23829  0.90619]                          \n"
     ]
    },
    {
     "data": {
      "application/vnd.jupyter.widget-view+json": {
       "model_id": "40a45ae5ee254f23961083f4096ac5e6"
      }
     },
     "metadata": {},
     "output_type": "display_data"
    },
    {
     "name": "stdout",
     "output_type": "stream",
     "text": [
      "[ 0.       0.24319  0.23047  0.91082]                          \n",
      "[ 1.       0.26198  0.22388  0.91211]                          \n",
      "[ 2.       0.23265  0.22417  0.91186]                          \n",
      "[ 3.       0.2086   0.22473  0.91134]                          \n",
      "[ 4.       0.21882  0.22031  0.91186]                          \n",
      "[ 5.       0.23463  0.21837  0.91289]                          \n",
      "[ 6.       0.20772  0.2188   0.91314]                          \n",
      "[ 7.       0.23261  0.21762  0.91366]                          \n",
      "[ 8.       0.20945  0.21744  0.91495]                          \n",
      "[ 9.       0.20686  0.22245  0.91314]                          \n",
      "[ 10.        0.22806   0.21508   0.91546]                      \n",
      "[ 11.        0.20464   0.22291   0.91443]                      \n",
      "[ 12.        0.19751   0.21721   0.91521]                      \n",
      "[ 13.        0.19433   0.21756   0.91546]                      \n",
      "[ 14.        0.20596   0.21737   0.91521]                      \n",
      "h_cv_class4D_543LR_10S5\n"
     ]
    },
    {
     "data": {
      "application/vnd.jupyter.widget-view+json": {
       "model_id": "72daee0e6c1d42cc8a7fb81132a793a1"
      }
     },
     "metadata": {},
     "output_type": "display_data"
    },
    {
     "name": "stdout",
     "output_type": "stream",
     "text": [
      "[ 0.       0.21006  0.23281  0.91495]                          \n"
     ]
    },
    {
     "data": {
      "application/vnd.jupyter.widget-view+json": {
       "model_id": "cec7c514ae7849b5b395a7b2ea0750cb"
      }
     },
     "metadata": {},
     "output_type": "display_data"
    },
    {
     "name": "stdout",
     "output_type": "stream",
     "text": [
      "[ 0.       0.33341  0.28577  0.88608]                          \n"
     ]
    },
    {
     "data": {
      "application/vnd.jupyter.widget-view+json": {
       "model_id": "7a662f4a799644d7b06acef3d03008a9"
      }
     },
     "metadata": {},
     "output_type": "display_data"
    },
    {
     "name": "stdout",
     "output_type": "stream",
     "text": [
      "[ 0.       0.27599  0.24135  0.90155]                          \n"
     ]
    },
    {
     "data": {
      "application/vnd.jupyter.widget-view+json": {
       "model_id": "1d2be6bc9b574619b1387107dc8a0e7b"
      }
     },
     "metadata": {},
     "output_type": "display_data"
    },
    {
     "name": "stdout",
     "output_type": "stream",
     "text": [
      "[ 0.       0.25806  0.23254  0.90619]                          \n",
      "[ 1.       0.2531   0.22646  0.90851]                          \n",
      "[ 2.       0.23915  0.22466  0.91005]                          \n",
      "[ 3.       0.27459  0.22111  0.9116 ]                          \n",
      "[ 4.       0.24012  0.22051  0.9116 ]                          \n",
      "[ 5.       0.21657  0.22161  0.9116 ]                          \n",
      "[ 6.       0.21444  0.21917  0.91263]                          \n",
      "[ 7.       0.24271  0.21772  0.91495]                          \n",
      "[ 8.       0.23381  0.21609  0.91521]                          \n",
      "[ 9.       0.20116  0.22011  0.91521]                          \n",
      "[ 10.        0.21407   0.21639   0.91598]                      \n",
      "[ 11.        0.19075   0.21835   0.91624]                      \n",
      "[ 12.        0.21516   0.21594   0.91727]                      \n",
      "[ 13.        0.2221    0.21559   0.91753]                      \n",
      "[ 14.        0.20805   0.21668   0.91649]                      \n",
      "h_cv_class4D_543LR_10S6\n"
     ]
    },
    {
     "data": {
      "application/vnd.jupyter.widget-view+json": {
       "model_id": "5c9e98968b48472cab54426e4e5d67d5"
      }
     },
     "metadata": {},
     "output_type": "display_data"
    },
    {
     "name": "stdout",
     "output_type": "stream",
     "text": [
      "[ 0.       0.23217  0.22044  0.91624]                          \n"
     ]
    },
    {
     "data": {
      "application/vnd.jupyter.widget-view+json": {
       "model_id": "34a312ab008648a59bcddb7e55991000"
      }
     },
     "metadata": {},
     "output_type": "display_data"
    },
    {
     "name": "stdout",
     "output_type": "stream",
     "text": [
      "[ 0.       0.33789  0.29253  0.87448]                          \n"
     ]
    },
    {
     "data": {
      "application/vnd.jupyter.widget-view+json": {
       "model_id": "b886c2744c224943b04d8378696db00c"
      }
     },
     "metadata": {},
     "output_type": "display_data"
    },
    {
     "name": "stdout",
     "output_type": "stream",
     "text": [
      "[ 0.       0.26613  0.23329  0.90516]                          \n"
     ]
    },
    {
     "data": {
      "application/vnd.jupyter.widget-view+json": {
       "model_id": "361fe738371b4e55833b75cfca4f5da9"
      }
     },
     "metadata": {},
     "output_type": "display_data"
    },
    {
     "name": "stdout",
     "output_type": "stream",
     "text": [
      "[ 0.       0.25536  0.22098  0.91082]                          \n",
      "[ 1.       0.25849  0.21184  0.91392]                          \n",
      "[ 2.       0.24077  0.21087  0.91469]                          \n",
      "[ 3.       0.22691  0.20869  0.91521]                          \n",
      "[ 4.       0.22561  0.20761  0.91598]                          \n",
      "[ 5.       0.21881  0.20645  0.91753]                          \n",
      "[ 6.       0.23721  0.20593  0.91753]                          \n",
      "[ 7.       0.22672  0.20777  0.91624]                          \n",
      "[ 8.       0.22189  0.20838  0.91727]                          \n",
      "[ 9.       0.20549  0.2062   0.91907]                          \n",
      "[ 10.        0.20506   0.20633   0.92165]                      \n",
      "[ 11.        0.21257   0.20409   0.91985]                      \n",
      "[ 12.        0.18862   0.20749   0.92113]                      \n",
      "[ 13.        0.20567   0.20451   0.91985]                      \n",
      "[ 14.        0.19932   0.20484   0.92036]                      \n",
      "h_cv_class4D_543LR_10S7\n"
     ]
    },
    {
     "data": {
      "application/vnd.jupyter.widget-view+json": {
       "model_id": "c38fc4a101d647dc9aea48d858a7dfb1"
      }
     },
     "metadata": {},
     "output_type": "display_data"
    },
    {
     "name": "stdout",
     "output_type": "stream",
     "text": [
      "[ 0.       0.20603  0.21678  0.92036]                          \n"
     ]
    },
    {
     "data": {
      "application/vnd.jupyter.widget-view+json": {
       "model_id": "d40daea5cd1d406aac990ed777c4ba89"
      }
     },
     "metadata": {},
     "output_type": "display_data"
    },
    {
     "name": "stdout",
     "output_type": "stream",
     "text": [
      "[ 0.       0.32811  0.28695  0.88737]                          \n"
     ]
    },
    {
     "data": {
      "application/vnd.jupyter.widget-view+json": {
       "model_id": "73748177175b45bd8529ebbcfd86ecb5"
      }
     },
     "metadata": {},
     "output_type": "display_data"
    },
    {
     "name": "stdout",
     "output_type": "stream",
     "text": [
      "[ 0.       0.27451  0.23922  0.90051]                          \n"
     ]
    },
    {
     "data": {
      "application/vnd.jupyter.widget-view+json": {
       "model_id": "736202cca98144d6bdc9227a254cfab9"
      }
     },
     "metadata": {},
     "output_type": "display_data"
    },
    {
     "name": "stdout",
     "output_type": "stream",
     "text": [
      "[ 0.       0.26091  0.23213  0.90387]                          \n",
      "[ 1.       0.24869  0.22945  0.90696]                          \n",
      "[ 2.       0.25136  0.22708  0.90825]                          \n",
      "[ 3.       0.2681   0.22573  0.90851]                          \n",
      "[ 4.       0.22387  0.22671  0.90825]                          \n",
      "[ 5.       0.2318   0.22407  0.90954]                          \n",
      "[ 6.       0.22542  0.2237   0.90954]                          \n",
      "[ 7.       0.20976  0.22798  0.91314]                          \n",
      "[ 8.       0.23012  0.22043  0.90979]                          \n",
      "[ 9.       0.22066  0.22359  0.91237]                          \n",
      "[ 10.        0.22059   0.22102   0.91289]                      \n",
      "[ 11.        0.22957   0.2202    0.91366]                      \n",
      "[ 12.        0.20469   0.22113   0.91289]                      \n",
      "[ 13.        0.20954   0.22197   0.91417]                      \n",
      "[ 14.        0.19435   0.22166   0.91392]                      \n",
      "h_cv_class4D_543LR_10S8\n"
     ]
    },
    {
     "data": {
      "application/vnd.jupyter.widget-view+json": {
       "model_id": "9007396f15604ce2a2bc19f2dfb4b740"
      }
     },
     "metadata": {},
     "output_type": "display_data"
    },
    {
     "name": "stdout",
     "output_type": "stream",
     "text": [
      "[ 0.       0.20404  0.23572  0.91057]                          \n"
     ]
    },
    {
     "data": {
      "application/vnd.jupyter.widget-view+json": {
       "model_id": "38d9daba550f4ea381ee33c6cc505dab"
      }
     },
     "metadata": {},
     "output_type": "display_data"
    },
    {
     "name": "stdout",
     "output_type": "stream",
     "text": [
      "[ 0.       0.32041  0.29236  0.88144]                          \n"
     ]
    },
    {
     "data": {
      "application/vnd.jupyter.widget-view+json": {
       "model_id": "7cbfdf8f96f14d3a98d5e819c5d58981"
      }
     },
     "metadata": {},
     "output_type": "display_data"
    },
    {
     "name": "stdout",
     "output_type": "stream",
     "text": [
      "[ 0.       0.2917   0.23694  0.91289]                          \n"
     ]
    },
    {
     "data": {
      "application/vnd.jupyter.widget-view+json": {
       "model_id": "afeeceef91b74b78b85d8abb7fd2e8d0"
      }
     },
     "metadata": {},
     "output_type": "display_data"
    },
    {
     "name": "stdout",
     "output_type": "stream",
     "text": [
      "[ 0.       0.24352  0.22774  0.91366]                          \n",
      "[ 1.       0.24872  0.2256   0.91289]                          \n",
      "[ 2.       0.25162  0.22141  0.91469]                          \n",
      "[ 3.      0.2283  0.2229  0.9134]                              \n",
      "[ 4.       0.23464  0.21623  0.91443]                          \n",
      "[ 5.       0.23286  0.21662  0.91469]                          \n",
      "[ 6.       0.23022  0.21609  0.91546]                          \n",
      "[ 7.       0.24821  0.21549  0.91572]                          \n",
      "[ 8.       0.23513  0.21985  0.91392]                          \n",
      "[ 9.       0.24446  0.21494  0.91495]                          \n",
      "[ 10.        0.22497   0.21295   0.91701]                      \n",
      "[ 11.        0.19984   0.21253   0.91959]                      \n",
      "[ 12.        0.20011   0.21223   0.91933]                      \n",
      "[ 13.        0.19093   0.21157   0.92036]                      \n",
      "[ 14.        0.20055   0.21147   0.92036]                      \n",
      "h_cv_class4D_543LR_10S9\n"
     ]
    },
    {
     "data": {
      "application/vnd.jupyter.widget-view+json": {
       "model_id": "c1092d03b68e408a9ade6f436e5ee045"
      }
     },
     "metadata": {},
     "output_type": "display_data"
    },
    {
     "name": "stdout",
     "output_type": "stream",
     "text": [
      "[ 0.       0.20355  0.22166  0.91856]                          \n"
     ]
    },
    {
     "data": {
      "application/vnd.jupyter.widget-view+json": {
       "model_id": "32496da5dbe648c892beb6f6b3cab644"
      }
     },
     "metadata": {},
     "output_type": "display_data"
    },
    {
     "name": "stdout",
     "output_type": "stream",
     "text": [
      "[ 0.       0.35321  0.28643  0.88247]                          \n"
     ]
    },
    {
     "data": {
      "application/vnd.jupyter.widget-view+json": {
       "model_id": "f63f5ce5ad6348fb9c73f25461bff726"
      }
     },
     "metadata": {},
     "output_type": "display_data"
    },
    {
     "name": "stdout",
     "output_type": "stream",
     "text": [
      "[ 0.       0.25104  0.23354  0.90954]                          \n"
     ]
    },
    {
     "data": {
      "application/vnd.jupyter.widget-view+json": {
       "model_id": "53e3dbc9e3824305bae6ba9c30a65aad"
      }
     },
     "metadata": {},
     "output_type": "display_data"
    },
    {
     "name": "stdout",
     "output_type": "stream",
     "text": [
      "[ 0.       0.25285  0.22366  0.91289]                          \n",
      "[ 1.       0.24783  0.22045  0.91134]                          \n",
      "[ 2.       0.24186  0.21557  0.91443]                          \n",
      "[ 3.       0.24628  0.21263  0.91701]                          \n",
      "[ 4.       0.22853  0.21273  0.91675]                          \n",
      "[ 5.       0.23733  0.20868  0.91675]                          \n",
      "[ 6.       0.23072  0.20956  0.91649]                          \n",
      "[ 7.       0.24126  0.20731  0.91624]                          \n",
      "[ 8.       0.21067  0.21115  0.9183 ]                          \n",
      "[ 9.       0.2345   0.2057   0.91804]                          \n",
      "[ 10.        0.2134    0.2085    0.91675]                      \n",
      "[ 11.        0.19959   0.2085    0.9183 ]                      \n",
      "[ 12.        0.20376   0.20791   0.91727]                      \n",
      "[ 13.        0.2034    0.20717   0.91907]                      \n",
      "[ 14.        0.19797   0.20735   0.91856]                      \n",
      "h_cv_class4D_543LR_10S10\n"
     ]
    },
    {
     "data": {
      "application/vnd.jupyter.widget-view+json": {
       "model_id": "ec7fc547c4a24c8eb80a27cf106d1613"
      }
     },
     "metadata": {},
     "output_type": "display_data"
    },
    {
     "name": "stdout",
     "output_type": "stream",
     "text": [
      "[ 0.       0.20846  0.21717  0.92088]                          \n",
      "\n"
     ]
    }
   ],
   "source": [
    "for (train_ids, val_ids) in tqdm_notebook(cv_splits):\n",
    "    train_df=full_train_df.iloc[train_ids]\n",
    "    val_df=full_train_df.iloc[val_ids]\n",
    "\n",
    "    df = {'train': train_df, 'val': val_df, 'test': None}\n",
    "\n",
    "    TEXT = pickle.load(open(f'{PATH}models/h5TEXT.pkl','rb'))\n",
    "    LABEL = data.Field(sequential=False, use_vocab=False, unk_token=None)\n",
    "    DEVICE = data.Field(sequential=False)\n",
    "    BROWSER = data.Field(sequential=False)\n",
    "    splits = PredictHappinessDataset.splits(TEXT, LABEL, '',\n",
    "                                 train='train',\n",
    "                                 val='val', test=None, dfs=df, device_field=DEVICE, browser_field=BROWSER)\n",
    "    md2 = TextData.from_splits(PATH, splits, bs)\n",
    "    BROWSER.build_vocab(splits[0])\n",
    "    DEVICE.build_vocab(splits[0])\n",
    "\n",
    "    # Initialize learner, start training\n",
    "\n",
    "    dropouti, dropout, wdrop, dropoute, dropouth = np.array([0.05,0.05,0.1,0.02,0.05])*4\n",
    "    m3 = md2.get_model(opt_fn, 1500, bptt, emb_sz=em_sz, n_hid=nh, n_layers=nl, \n",
    "               dropouti=dropouti, dropout=dropout, wdrop=wdrop,\n",
    "                           dropoute=dropoute, dropouth=dropouth)\n",
    "    m3.reg_fn = partial(seq2seq_reg, alpha=2, beta=1)\n",
    "    m3.load_encoder(f'h5_adam6_enc')\n",
    "    m3.clip=25.\n",
    "    lrs=np.array([1e-5,1e-4,1e-3])\n",
    "\n",
    "    # start training\n",
    "\n",
    "    m3.freeze_to(-1)\n",
    "    m3.fit(lrs/2, 1, metrics=[accuracy])\n",
    "    m3.unfreeze()\n",
    "    m3.fit(lrs, 1, metrics=[accuracy], cycle_len=1)\n",
    "    m3.fit(lrs, 4, metrics=[accuracy], cycle_len=1, cycle_mult=2)\n",
    "\n",
    "    # train a bit more with low clip\n",
    "\n",
    "    tmp_model_name, i = get_model_name(model_name_base, i)\n",
    "    m3.clip=0.03\n",
    "    m3.fit(lrs, 1, metrics=[accuracy])\n",
    "    m3.save(tmp_model_name)\n",
    "    #make_predictions(m3, test_df, SUBS+'/'+tmp_model_name+'.csv', probabilities=True)"
   ]
  },
  {
   "cell_type": "code",
   "execution_count": null,
   "metadata": {},
   "outputs": [],
   "source": []
  }
 ],
 "metadata": {
  "kernelspec": {
   "display_name": "Python 3",
   "language": "python",
   "name": "python3"
  },
  "language_info": {
   "codemirror_mode": {
    "name": "ipython",
    "version": 3
   },
   "file_extension": ".py",
   "mimetype": "text/x-python",
   "name": "python",
   "nbconvert_exporter": "python",
   "pygments_lexer": "ipython3",
   "version": "3.6.3"
  }
 },
 "nbformat": 4,
 "nbformat_minor": 2
}
